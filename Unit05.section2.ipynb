{
 "cells": [
  {
   "cell_type": "markdown",
   "id": "maritime-agent",
   "metadata": {
    "slideshow": {
     "slide_type": "slide"
    }
   },
   "source": [
    "# Lecture 5\n",
    "\n",
    "# Section 2: Object Oriented Programming in Python\n",
    "\n",
    "Hint: All the examples and explanations from this second part of today's lecture can be found in chapter 10 of the book."
   ]
  },
  {
   "cell_type": "markdown",
   "id": "breathing-difference",
   "metadata": {
    "slideshow": {
     "slide_type": "slide"
    }
   },
   "source": [
    "# 2.1 Objects basics\n"
   ]
  },
  {
   "cell_type": "markdown",
   "id": "interesting-compression",
   "metadata": {},
   "source": [
    "## How to create a simple Class\n",
    "\n",
    "Classes are new data types.\n",
    "\n",
    "Create a class named `Car`, with a (class) property named `brand`:"
   ]
  },
  {
   "cell_type": "code",
   "execution_count": null,
   "id": "74394b06",
   "metadata": {},
   "outputs": [],
   "source": [
    "class Car:\n",
    "    brand = 'Porsche'"
   ]
  },
  {
   "cell_type": "markdown",
   "id": "roman-promotion",
   "metadata": {
    "slideshow": {
     "slide_type": "slide"
    }
   },
   "source": [
    "## How to create an Object from a Class\n",
    "Now we can use the class named `Car` to create objects. Thus we _instantiate_ the class, i.e., we create an _instance_ of the class aka. an _object_."
   ]
  },
  {
   "cell_type": "code",
   "execution_count": null,
   "id": "a53b9c7d",
   "metadata": {},
   "outputs": [],
   "source": [
    "my_car = Car()\n",
    "print(my_car.brand)\n",
    "print(type(my_car))"
   ]
  },
  {
   "cell_type": "markdown",
   "id": "stunning-footwear",
   "metadata": {
    "slideshow": {
     "slide_type": "slide"
    }
   },
   "source": [
    "## Let's add some more Attributes"
   ]
  },
  {
   "cell_type": "code",
   "execution_count": null,
   "id": "accessory-ready",
   "metadata": {},
   "outputs": [],
   "source": [
    "class Car:\n",
    "    brand = 'Porsche'\n",
    "    model = '964 Turbo'  \n",
    "    milage = 63676       # Not yet very useful, why? \n",
    "    condition = 89"
   ]
  },
  {
   "cell_type": "markdown",
   "id": "white-darwin",
   "metadata": {
    "slideshow": {
     "slide_type": "slide"
    }
   },
   "source": [
    "### The __init__() Function\n",
    "The examples above are classes and objects in their simplest form, and are not really useful in real life applications. This is because the attributes (variables) are actually so called _class variables_, i.e., they belong to the class and (mostly) are the same for _all_ objects. This is often not what we want because objects (instances) are different.\n",
    "\n",
    "To understand the meaning of classes we have to understand the built-in __init__() function (dunder/magic methods).\n",
    "\n",
    "All classes have a function called __init__(), which is always executed when the class is being instatiated, i.e., an object is created/initiated.\n",
    "\n",
    "Use the __init__() function to assign values to object properties, or other operations that are necessary to do when the object is being created. Here we create so called _instance variables_ whose values are specific to everey _instance_ (object)."
   ]
  },
  {
   "cell_type": "code",
   "execution_count": null,
   "id": "complex-jewelry",
   "metadata": {},
   "outputs": [],
   "source": [
    "class Car():\n",
    "    def __init__(self, brand, model, milage, condition):\n",
    "        self.brand = brand\n",
    "        self.model = model\n",
    "        self.milage = milage\n",
    "        self.condition = condition"
   ]
  },
  {
   "cell_type": "markdown",
   "id": "cardiovascular-vegetable",
   "metadata": {
    "slideshow": {
     "slide_type": "slide"
    }
   },
   "source": [
    " We can now create an object (i.e. a class instance). \n",
    "\n",
    "Each object __has datatype Car__!\n",
    "The class actually __defines a new datatype__.\n",
    "\n",
    "Python has some built-in datatypes (e.g., Strings, int, float, boolean) but it also gives you the option to define new custom datatypes.\n",
    "\n",
    "Each object holds its own values for the attributes."
   ]
  },
  {
   "cell_type": "code",
   "execution_count": null,
   "id": "piano-nursing",
   "metadata": {},
   "outputs": [],
   "source": [
    "c1 = Car(\"Porsche\", '964 Turbo', 63676, 89)\n",
    "\n",
    "print(c1.brand)\n",
    "print(c1.model)\n",
    "print(c1.milage)\n",
    "print(c1.condition)"
   ]
  },
  {
   "cell_type": "code",
   "execution_count": null,
   "id": "whole-earth",
   "metadata": {},
   "outputs": [],
   "source": [
    "c2 = Car(\"DeLorean Motor Company - DMC\", 'DeLorean DMC-12', 23400, 74)\n",
    "\n",
    "print(c2.brand)\n",
    "print(c2.model)\n",
    "print(c2.milage)\n",
    "print(c2.condition)"
   ]
  },
  {
   "cell_type": "markdown",
   "id": "vanilla-theology",
   "metadata": {
    "slideshow": {
     "slide_type": "slide"
    }
   },
   "source": [
    "Objects can be used as any other value in python. \n",
    "They can be:\n",
    "* Assigned to variables\n",
    "* Passed to functions\n",
    "* Stored into data structures\n",
    "* ...\n",
    "\n",
    "Here are some examples."
   ]
  },
  {
   "cell_type": "code",
   "execution_count": null,
   "id": "portuguese-broadway",
   "metadata": {},
   "outputs": [],
   "source": [
    "cars = []\n",
    "cars.append(c1)\n",
    "cars.append(c2)"
   ]
  },
  {
   "cell_type": "code",
   "execution_count": null,
   "id": "parliamentary-proposition",
   "metadata": {},
   "outputs": [],
   "source": [
    "def print_car_brands(car_list):\n",
    "    for c in car_list:\n",
    "        print(c.brand)\n",
    "        \n",
    "print_car_brands(cars)"
   ]
  },
  {
   "cell_type": "code",
   "execution_count": null,
   "id": "legal-witness",
   "metadata": {
    "slideshow": {
     "slide_type": "slide"
    }
   },
   "outputs": [],
   "source": [
    "def print_car_milage(car_list):\n",
    "    for c in car_list:\n",
    "        print(c.milage)\n",
    "\n",
    "print_car_milage(cars)"
   ]
  },
  {
   "cell_type": "code",
   "execution_count": null,
   "id": "8277b52d",
   "metadata": {},
   "outputs": [],
   "source": [
    "cars.append(Car('Volvo', 'V70R', 203200, 60))\n",
    "\n",
    "print_car_milage(cars)"
   ]
  },
  {
   "cell_type": "markdown",
   "id": "5d3095a8",
   "metadata": {
    "slideshow": {
     "slide_type": "slide"
    }
   },
   "source": [
    "We can also assign values to existing attributes of existing objects: "
   ]
  },
  {
   "cell_type": "code",
   "execution_count": null,
   "id": "5f56693d",
   "metadata": {},
   "outputs": [],
   "source": [
    "print_car_milage(cars)"
   ]
  },
  {
   "cell_type": "code",
   "execution_count": null,
   "id": "32ca2257",
   "metadata": {},
   "outputs": [],
   "source": [
    "c1.milage = 328_245\n",
    "print_car_milage(cars)"
   ]
  },
  {
   "cell_type": "code",
   "execution_count": null,
   "id": "68fe701a",
   "metadata": {},
   "outputs": [],
   "source": [
    "cars[2].milage = 205_000\n",
    "print_car_milage(cars)"
   ]
  },
  {
   "cell_type": "markdown",
   "id": "14f60af2",
   "metadata": {
    "slideshow": {
     "slide_type": "slide"
    }
   },
   "source": [
    "## Methods\n",
    "It is, however, not a very good idea to manipulate an object's attribute value directly (more on this later). Instead, we often call a method for achieving certain changes."
   ]
  },
  {
   "cell_type": "code",
   "execution_count": null,
   "id": "039733fc",
   "metadata": {},
   "outputs": [],
   "source": [
    "class Car():\n",
    "    \n",
    "    def __init__(self, brand, model, milage, condition):\n",
    "        self.brand = brand\n",
    "        self.model = model\n",
    "        self.milage = milage\n",
    "        self.condition = condition\n",
    "        \n",
    "    def drive(self, distance):\n",
    "        if distance >= 0:\n",
    "            self.milage += distance\n",
    "            print(f'Wonderful, I just drove {distance} kilometer/s')\n",
    "        else:\n",
    "            print('The distances cannot be negative! I will not go backwards')"
   ]
  },
  {
   "cell_type": "code",
   "execution_count": null,
   "id": "acfc0780",
   "metadata": {
    "slideshow": {
     "slide_type": "slide"
    }
   },
   "outputs": [],
   "source": [
    "c1 = Car(\"Porsche\", '964 Turbo', 63676, 89)\n",
    "\n",
    "print('original milage:', c1.milage)"
   ]
  },
  {
   "cell_type": "code",
   "execution_count": null,
   "id": "51cc65d2",
   "metadata": {},
   "outputs": [],
   "source": [
    "c1.drive(300)\n",
    "print('milage after driving:', c1.milage)"
   ]
  },
  {
   "cell_type": "code",
   "execution_count": null,
   "id": "f3ad776e",
   "metadata": {},
   "outputs": [],
   "source": [
    "c1.drive(-300)"
   ]
  },
  {
   "cell_type": "markdown",
   "id": "biblical-donna",
   "metadata": {
    "slideshow": {
     "slide_type": "slide"
    }
   },
   "source": [
    "# 2.2 Custom Class Account \n",
    "* Bank `Account` class that holds an account holder’s name and balance\n",
    "    * An actual bank account class would likely include lots of other information"
   ]
  },
  {
   "cell_type": "markdown",
   "id": "bibliographic-snowboard",
   "metadata": {
    "slideshow": {
     "slide_type": "slide"
    }
   },
   "source": [
    "## 2.2.1 Test-Driving Class Account \n",
    "* Each new class you create becomes a new _data type_ \n",
    "* Python is an **extensible language**\n",
    "* Before we look at class `Account`’s definition, let’s demonstrate its capabilities "
   ]
  },
  {
   "cell_type": "markdown",
   "id": "organized-defensive",
   "metadata": {
    "slideshow": {
     "slide_type": "slide"
    }
   },
   "source": [
    "### Importing Classes `Account` and `Decimal`\n",
    "* you have to have extracted the `*.py` files and those being available in the folder of the Jupyter Notebook"
   ]
  },
  {
   "cell_type": "code",
   "execution_count": null,
   "id": "alone-citation",
   "metadata": {},
   "outputs": [],
   "source": [
    "from account import Account\n",
    "from decimal import Decimal"
   ]
  },
  {
   "cell_type": "markdown",
   "id": "turned-summary",
   "metadata": {},
   "source": [
    "* `Account` maintains and manipulates the account balance as a `Decimal`\n",
    "* decimals are similar to floats\n",
    "* decimals are often more precise than floats, but also slower in operations (about 3 times slower) than floats\n",
    "* for details see, e.g., https://blog.teclado.com/decimal-vs-float-in-python/"
   ]
  },
  {
   "cell_type": "markdown",
   "id": "rural-explanation",
   "metadata": {
    "slideshow": {
     "slide_type": "slide"
    }
   },
   "source": [
    "### Create an `Account` Object with a Constructor Expression\n",
    "* Create an object with a **constructor expression** that builds and initializes an object\n",
    "* Constructor expressions create new objects and initialize their data using argument(s) specified in parentheses\n",
    "* Parentheses following the class name are required, even if there are no arguments"
   ]
  },
  {
   "cell_type": "code",
   "execution_count": null,
   "id": "decimal-jason",
   "metadata": {},
   "outputs": [],
   "source": [
    "account1 = Account('John Green', Decimal('50.00'))"
   ]
  },
  {
   "cell_type": "markdown",
   "id": "acoustic-coordinate",
   "metadata": {
    "slideshow": {
     "slide_type": "slide"
    }
   },
   "source": [
    "### Getting an `Account`’s Name and Balance\n",
    "* Access the `Account` object’s `name` and `balance` attributes"
   ]
  },
  {
   "cell_type": "code",
   "execution_count": null,
   "id": "expected-cutting",
   "metadata": {},
   "outputs": [],
   "source": [
    "account1.name"
   ]
  },
  {
   "cell_type": "code",
   "execution_count": null,
   "id": "falling-humanity",
   "metadata": {},
   "outputs": [],
   "source": [
    "account1.balance"
   ]
  },
  {
   "cell_type": "markdown",
   "id": "korean-oriental",
   "metadata": {
    "slideshow": {
     "slide_type": "slide"
    }
   },
   "source": [
    "### Depositing Money into an `Account` \n",
    "* `deposit` method receives a positive dollar amount and adds it to the balance"
   ]
  },
  {
   "cell_type": "code",
   "execution_count": null,
   "id": "standing-breathing",
   "metadata": {},
   "outputs": [],
   "source": [
    "account1.deposit(Decimal('25.53'))"
   ]
  },
  {
   "cell_type": "code",
   "execution_count": null,
   "id": "broke-driving",
   "metadata": {},
   "outputs": [],
   "source": [
    "account1.balance"
   ]
  },
  {
   "cell_type": "markdown",
   "id": "negative-shore",
   "metadata": {
    "slideshow": {
     "slide_type": "fragment"
    }
   },
   "source": [
    "* `Account`’s methods validate their arguments"
   ]
  },
  {
   "cell_type": "markdown",
   "id": "patent-regression",
   "metadata": {
    "slideshow": {
     "slide_type": "slide"
    }
   },
   "source": [
    "## 2.2.2 Account Class Definition \n",
    "### Defining a Class \n",
    "* Class definition begins with the keyword **`class`** followed by the class’s name and a colon (`:`)\n",
    "* Called the **class header**\n",
    "* _Style Guide for Python Code_ recommends that you begin each word in a multi-word class name with an uppercase letter\n",
    "* Every statement in a class’s suite is indented\n",
    "\n",
    "```python\n",
    "# account.py\n",
    "\"\"\"Account class definition.\"\"\"\n",
    "from decimal import Decimal\n",
    "\n",
    "class Account:\n",
    "    \"\"\"Account class for maintaining a bank account balance.\"\"\"\n",
    "    \n",
    "\n",
    "```"
   ]
  },
  {
   "cell_type": "markdown",
   "id": "wrong-wales",
   "metadata": {
    "slideshow": {
     "slide_type": "slide"
    }
   },
   "source": [
    "### Defining a Class (cont.) \n",
    "* `Account` is both the class name and the name used in a constructor expression to create an `Account` object and invoke the class’s `__init__` method"
   ]
  },
  {
   "cell_type": "markdown",
   "id": "streaming-rochester",
   "metadata": {},
   "source": [
    "### Initializing Account Objects: Method `__init__` \n",
    "* Constructor expression creates a new object, then initializes its data by calling the class’s **`__init__`** method\n",
    "* Each new class can provide an `__init__` method that specifies how to initialize an object’s data attributes\n",
    "* Returning a value other than `None` from `__init__` results in a `TypeError`\n",
    "* Class `Account`’s `__init__` method initializes an `Account` object’s `name` and `balance` attributes if the `balance` is valid"
   ]
  },
  {
   "cell_type": "markdown",
   "id": "split-hungary",
   "metadata": {
    "slideshow": {
     "slide_type": "slide"
    }
   },
   "source": [
    "### Initializing Account Objects: Method `__init__` (cont.)\n",
    "```python\n",
    "    def __init__(self, name, balance):\n",
    "        \"\"\"Initialize an Account object.\"\"\"\n",
    "\n",
    "        # if balance is less than 0.00, raise an exception\n",
    "        if balance < Decimal('0.00'):\n",
    "            raise ValueError('Initial balance must be >= to 0.00.')\n",
    "\n",
    "        self.name = name\n",
    "        self.balance = balance\n",
    "\n",
    "\n",
    "```"
   ]
  },
  {
   "cell_type": "markdown",
   "id": "solar-jerusalem",
   "metadata": {},
   "source": [
    "* When you call a method for a specific object, Python implicitly passes a reference to that object as the method’s first argument\n",
    "* So all methods of a class must specify at least one parameter\n",
    "* By convention a method’s first parameter is named `self`\n",
    "* Methods must use that reference (`self`) to access the object’s attributes and other methods"
   ]
  },
  {
   "cell_type": "markdown",
   "id": "dangerous-sister",
   "metadata": {
    "slideshow": {
     "slide_type": "slide"
    }
   },
   "source": [
    "### Initializing Account Objects: Method `__init__` (cont.)\n",
    "* When an object is created, it does not yet have any attributes\n",
    "* They’re added _dynamically_ via assignments of the form:\n",
    "```python\n",
    "self.attribute_name = value\n",
    "``` "
   ]
  },
  {
   "cell_type": "markdown",
   "id": "verbal-dictionary",
   "metadata": {
    "slideshow": {
     "slide_type": "fragment"
    }
   },
   "source": [
    "* Python classes may define many [special methods](https://docs.python.org/3/reference/datamodel.html#special-method-names), like `__init__`\n",
    "* Each identified by leading and trailing double-underscores (`__`) in the method name\n",
    "* Class **`object`** defines the special methods that are available for _all_ Python objects "
   ]
  },
  {
   "cell_type": "markdown",
   "id": "vertical-hamilton",
   "metadata": {
    "slideshow": {
     "slide_type": "slide"
    }
   },
   "source": [
    "### Method `deposit` \n",
    "* Adds a positive `amount` to the account’s `balance` attribute\n",
    "* Raises a `ValueError` if `amount` is less than `0.00`\n",
    "\n",
    "```python\n",
    "    def deposit(self, amount):\n",
    "        \"\"\"Deposit money to the account.\"\"\"\n",
    "\n",
    "        # if amount is less than 0.00, raise an exception\n",
    "        if amount < Decimal('0.00'):\n",
    "            raise ValueError('amount must be positive.')\n",
    "\n",
    "        self.balance += amount\n",
    "\n",
    "```"
   ]
  },
  {
   "cell_type": "markdown",
   "id": "heated-grace",
   "metadata": {
    "slideshow": {
     "slide_type": "slide"
    }
   },
   "source": [
    "## 2.2.3 Composition: Object References as Members of Classes\n",
    "* An `Account` _has a_ `name`, and an `Account` _has a_ `balance`\n",
    "* An object’s attributes are references to objects of other classes\n",
    "* Embedding references to objects of other types is a form of software reusability known as **composition** and is sometimes referred to as the **“has a” relationship**"
   ]
  },
  {
   "cell_type": "markdown",
   "id": "add4745f",
   "metadata": {
    "slideshow": {
     "slide_type": "slide"
    }
   },
   "source": [
    "### Let's do some coding exercise\n",
    "You want to start writing a programm for **University Course Administration**. Here you start with the following:\n",
    "- define a class `Course`\n",
    "- define an `__init__` method with the following parameters:\n",
    "    - `course_name` (such as _Introduction to Computer Science for Business Studies_)\n",
    "    - `course_code` (such as _4.125_)\n",
    "    - `credits` (in integer with the ECTS for the course)\n",
    "    - `capacity` (the max number of students in the course)\n",
    "    - `instructor` (the one person who teaches the course)\n",
    "    - beyond the parameters above, a course should also have a list of `enrolled_students`, which is however, always initialized as an empty list when a Course object is created\n",
    "- define an `enroll_student` method that takes one argument (`student_name`) and adds the student to `enrolled_students` if there is capacity left\n",
    "- define a `drop_student` method that takes one argument (`student_name`) and removes the student from `enrolled_students` if that student has been enrolled in the course\n",
    "- define a `list_students` method that just prints the names of all `enrolled_students` of the course\n",
    "- instatiate the class and test it \n"
   ]
  },
  {
   "cell_type": "code",
   "execution_count": null,
   "id": "595b0129",
   "metadata": {},
   "outputs": [],
   "source": [
    "# Your Class definition goes here:\n",
    "\n",
    "# start with the Class name:\n",
    "class ...\n",
    "    \n",
    "    # then define the __init__ method: \n",
    "    def __init__(...\n",
    "    \n",
    "    # then define the enroll_student method:\n",
    "    ...\n",
    "    \n",
    "    # and the drop_student method:\n",
    "    ...\n",
    "    \n",
    "    # and finally the list_students method:\n",
    "    ...\n",
    "        \n",
    "# Now let's create an object for a sample course\n",
    "course = ...\n",
    "\n",
    "# let's list the students\n",
    "...\n"
   ]
  },
  {
   "cell_type": "markdown",
   "id": "collectible-characterization",
   "metadata": {
    "slideshow": {
     "slide_type": "slide"
    }
   },
   "source": [
    "# 2.3 Controlling Access to Attributes \n",
    "* Previous example used attributes `name` and `balance` only to _get_ the values of those attributes\n",
    "* However, we also can use those attributes to _modify_ their values"
   ]
  },
  {
   "cell_type": "code",
   "execution_count": null,
   "id": "becoming-feature",
   "metadata": {},
   "outputs": [],
   "source": [
    "from account import Account\n",
    "from decimal import Decimal"
   ]
  },
  {
   "cell_type": "code",
   "execution_count": null,
   "id": "impaired-manitoba",
   "metadata": {},
   "outputs": [],
   "source": [
    "account1 = Account('John Green', Decimal('50.00'))"
   ]
  },
  {
   "cell_type": "code",
   "execution_count": null,
   "id": "surrounded-blast",
   "metadata": {},
   "outputs": [],
   "source": [
    "account1.balance"
   ]
  },
  {
   "cell_type": "markdown",
   "id": "fixed-crest",
   "metadata": {
    "slideshow": {
     "slide_type": "slide"
    }
   },
   "source": [
    "* Set the `balance` attribute to an _invalid_ negative value, then display the `balance`"
   ]
  },
  {
   "cell_type": "code",
   "execution_count": null,
   "id": "thousand-smile",
   "metadata": {},
   "outputs": [],
   "source": [
    "account1.balance = Decimal('-1000.00')"
   ]
  },
  {
   "cell_type": "code",
   "execution_count": null,
   "id": "super-webster",
   "metadata": {},
   "outputs": [],
   "source": [
    "account1.balance"
   ]
  },
  {
   "cell_type": "markdown",
   "id": "biblical-cooperative",
   "metadata": {
    "slideshow": {
     "slide_type": "slide"
    }
   },
   "source": [
    "### Encapsulation \n",
    "* A class’s **client code** is any code that uses objects of the class\n",
    "* Most object-oriented programming languages enable you to **encapsulate** (or _hide_) an object’s data from the client code\n",
    "    * _private data_"
   ]
  },
  {
   "cell_type": "markdown",
   "id": "generous-check",
   "metadata": {
    "slideshow": {
     "slide_type": "fragment"
    }
   },
   "source": [
    "### Leading Underscore (`_`) Naming Convention\n",
    "* Python does _not_ have private data\n",
    "* Use _naming conventions_ to design classes that encourage correct use\n",
    "* By convention, Python programmers know that any attribute name beginning with an underscore (`_`) is for a class’s _internal use only_\n",
    "* Attributes whose identifiers do _not_ begin with an underscore (`_`) are considered _publicly accessible_ for use in client code"
   ]
  },
  {
   "cell_type": "markdown",
   "id": "completed-interval",
   "metadata": {
    "slideshow": {
     "slide_type": "slide"
    }
   },
   "source": [
    "# 2.4 `Time` Class with Properties for Data Access\n",
    "* **Properties** can control the manner in which they get and modify an object’s data&mdash;**assuming programmers follow conventions**\n",
    "* For robust date and time manipulation capabilities, see Python's [**datetime** module]( https://docs.python.org/3/library/datetime.html)"
   ]
  },
  {
   "cell_type": "markdown",
   "id": "prime-cabinet",
   "metadata": {
    "slideshow": {
     "slide_type": "slide"
    }
   },
   "source": [
    "## 2.4.1 Test-Driving Class `Time` \n",
    "* Before we look at class `Time`’s definition, let’s demonstrate its capabilities\n",
    "* Again, you have to have extracted the `*.py` files and those being available in the folder of the Jupyter Notebook"
   ]
  },
  {
   "cell_type": "code",
   "execution_count": null,
   "id": "enormous-purse",
   "metadata": {},
   "outputs": [],
   "source": [
    "from timewithproperties import Time"
   ]
  },
  {
   "cell_type": "markdown",
   "id": "statutory-regular",
   "metadata": {
    "slideshow": {
     "slide_type": "slide"
    }
   },
   "source": [
    "### Creating a `Time` Object\n",
    "* Create a `Time` object\n",
    "* Class `Time`’s `__init__` method has `hour`, `minute` and `second` parameters, each with a default argument value of 0"
   ]
  },
  {
   "cell_type": "code",
   "execution_count": null,
   "id": "coordinate-collect",
   "metadata": {},
   "outputs": [],
   "source": [
    "wake_up = Time(hour=6, minute=30)"
   ]
  },
  {
   "cell_type": "markdown",
   "id": "owned-indication",
   "metadata": {
    "slideshow": {
     "slide_type": "slide"
    }
   },
   "source": [
    "### Displaying a `Time` Object\n",
    "* Class `Time` defines two methods that produce string representations of `Time` object\n",
    "* When you evaluate a variable in IPython, it calls the object’s `__repr__` special method to produce a string representation of the object"
   ]
  },
  {
   "cell_type": "code",
   "execution_count": null,
   "id": "iraqi-newcastle",
   "metadata": {},
   "outputs": [],
   "source": [
    "wake_up"
   ]
  },
  {
   "cell_type": "markdown",
   "id": "average-platinum",
   "metadata": {
    "slideshow": {
     "slide_type": "fragment"
    }
   },
   "source": [
    "* The `__str__` special method is called when an object is converted to a string, such as when you output the object with `print`"
   ]
  },
  {
   "cell_type": "code",
   "execution_count": null,
   "id": "statewide-minnesota",
   "metadata": {},
   "outputs": [],
   "source": [
    "print(wake_up)"
   ]
  },
  {
   "cell_type": "markdown",
   "id": "limiting-johnston",
   "metadata": {
    "slideshow": {
     "slide_type": "slide"
    }
   },
   "source": [
    "### Getting an Attribute via a Property \n",
    "* Class `Time` provides `hour`, `minute` and `second` **properties**\n",
    "    * Provide the convenience of data attributes for getting and modifying an object’s data\n",
    "    * Implemented as methods, so they may contain additional logic"
   ]
  },
  {
   "cell_type": "code",
   "execution_count": null,
   "id": "dense-hours",
   "metadata": {},
   "outputs": [],
   "source": [
    "wake_up.hour"
   ]
  },
  {
   "cell_type": "markdown",
   "id": "million-luxembourg",
   "metadata": {
    "slideshow": {
     "slide_type": "fragment"
    }
   },
   "source": [
    "* Appears to simply get an `hour` data attribute’s value\n",
    "* Actually a call to an `hour` _method_ that returns the value of an `_hour` data attribute"
   ]
  },
  {
   "cell_type": "markdown",
   "id": "received-video",
   "metadata": {
    "slideshow": {
     "slide_type": "slide"
    }
   },
   "source": [
    "### Setting the `Time` \n",
    "* `Time` method `set_time` method provides `hour`, `minute` and `second` parameters, each with a default of `0`"
   ]
  },
  {
   "cell_type": "code",
   "execution_count": null,
   "id": "known-million",
   "metadata": {},
   "outputs": [],
   "source": [
    "wake_up.set_time(hour=7, minute=45)"
   ]
  },
  {
   "cell_type": "code",
   "execution_count": null,
   "id": "headed-composition",
   "metadata": {},
   "outputs": [],
   "source": [
    "wake_up"
   ]
  },
  {
   "cell_type": "markdown",
   "id": "restricted-loading",
   "metadata": {
    "slideshow": {
     "slide_type": "slide"
    }
   },
   "source": [
    "### Setting an Attribute via a Property \n",
    "* Class `Time` also supports setting the `hour`, `minute` and `second` values individually via its properties"
   ]
  },
  {
   "cell_type": "code",
   "execution_count": null,
   "id": "lasting-experiment",
   "metadata": {},
   "outputs": [],
   "source": [
    "wake_up.hour = 6"
   ]
  },
  {
   "cell_type": "code",
   "execution_count": null,
   "id": "disciplinary-relay",
   "metadata": {},
   "outputs": [],
   "source": [
    "wake_up"
   ]
  },
  {
   "cell_type": "markdown",
   "id": "answering-valuable",
   "metadata": {
    "slideshow": {
     "slide_type": "fragment"
    }
   },
   "source": [
    "* Appears to simply assign a value to a data attribute\n",
    "* Actually a call to an `hour` method that takes `6` as an argument, validates the value, then assigns it to a corresponding data attribute named `_hour`"
   ]
  },
  {
   "cell_type": "markdown",
   "id": "sapphire-responsibility",
   "metadata": {
    "slideshow": {
     "slide_type": "slide"
    }
   },
   "source": [
    "### Attempting to Set an Invalid Value \n",
    "To prove that class `Time`’s properties _validate_ the values you assign to them, let’s try to assign an invalid value to the `hour` property, which results in a `ValueError`:"
   ]
  },
  {
   "cell_type": "code",
   "execution_count": null,
   "id": "mechanical-mailing",
   "metadata": {},
   "outputs": [],
   "source": [
    "wake_up.hour = 100"
   ]
  },
  {
   "cell_type": "markdown",
   "id": "revised-antibody",
   "metadata": {
    "slideshow": {
     "slide_type": "slide"
    }
   },
   "source": [
    "## 2.4.2 Class `Time` Definition\n",
    "\n",
    "### Class Time: `__init__` Method with Default Parameter Values\n",
    "* Specifies `hour`, `minute` and `second` parameters, each with a default argument of `0`\n",
    "* The statements containing `self.hour`, `self.minute` and `self.second` _appear_ to create `hour`, `minute` and `second` attributes for the new `Time` object (`self`)\n",
    "* These statements actually call methods that implement the class’s `hour`, `minute` and `second` _properties_ \n",
    "* Those methods create attributes named `_hour`, `_minute` and `_second` "
   ]
  },
  {
   "cell_type": "markdown",
   "id": "solid-editor",
   "metadata": {
    "slideshow": {
     "slide_type": "skip"
    }
   },
   "source": [
    "```python\n",
    "# timewithproperties.py\n",
    "\"\"\"Class Time with read-write properties.\"\"\"\n",
    "\n",
    "class Time:\n",
    "    \"\"\"Class Time with read-write properties.\"\"\"\n",
    "\n",
    "    def __init__(self, hour=0, minute=0, second=0):\n",
    "        \"\"\"Initialize each attribute.\"\"\"\n",
    "        self.hour = hour  # 0-23\n",
    "        self.minute = minute  # 0-59\n",
    "        self.second = second  # 0-59\n",
    "\n",
    "\n",
    "```"
   ]
  },
  {
   "cell_type": "markdown",
   "id": "effective-bridge",
   "metadata": {
    "slideshow": {
     "slide_type": "skip"
    }
   },
   "source": [
    "### Class Time: `hour` Read-Write Property\n",
    "* Methods named `hour` define a _publicly accessible_ **read-write property** named `hour` that manipulates a data attribute named `_hour`\n",
    "* The single-leading-underscore (`_`) naming convention indicates that client code should not access `_hour` directly\n",
    "* Properties look like data attributes to programmers working with `Time` objects, but are implemented as _methods_\n",
    "* Each property defines a _getter_ method which _gets_ (returns) a data attribute’s value \n",
    "* Each property can _optionally_ define a _setter_ method which _sets_ a data attribute’s value"
   ]
  },
  {
   "cell_type": "markdown",
   "id": "exclusive-french",
   "metadata": {
    "slideshow": {
     "slide_type": "skip"
    }
   },
   "source": [
    "```python \n",
    "    @property\n",
    "    def hour(self):\n",
    "        \"\"\"Return the hour.\"\"\"\n",
    "        return self._hour\n",
    "\n",
    "    @hour.setter\n",
    "    def hour(self, hour):\n",
    "        \"\"\"Set the hour.\"\"\"\n",
    "        if not (0 <= hour < 24):\n",
    "            raise ValueError(f'Hour ({hour}) must be 0-23')\n",
    "\n",
    "        self._hour = hour\n",
    "\n",
    "\n",
    "```"
   ]
  },
  {
   "cell_type": "markdown",
   "id": "reasonable-airplane",
   "metadata": {
    "slideshow": {
     "slide_type": "skip"
    }
   },
   "source": [
    "### Class Time: `hour` Read-Write Property (cont.)\n",
    "* The **`@property` decorator** precedes the property’s _getter_ method, which receives only a `self` parameter\n",
    "* A decorator adds code to the decorated function\n",
    "    * Makes the `hour` function work with attribute syntax\n",
    "* _getter_ method’s name is the property name"
   ]
  },
  {
   "cell_type": "markdown",
   "id": "oriental-projector",
   "metadata": {
    "slideshow": {
     "slide_type": "skip"
    }
   },
   "source": [
    "### Class Time: `hour` Read-Write Property (cont.)\n",
    "* A decorator of the form **`@property_name.setter`** (`@hour.setter`) precedes the property’s _setter_ method\n",
    "* Method receives two parameters—`self` and a parameter (`hour`) representing the value being assigned to the property\n",
    "* `__init__` invoked this `setter` to _validate_ `__init__`’s hour argument _before_ creating and initializing the object’s `_hour` attribute\n",
    "* A **read-write property** has both a _getter_ and a _setter_\n",
    "* A **read-only property** has only a _getter_"
   ]
  },
  {
   "cell_type": "markdown",
   "id": "every-tournament",
   "metadata": {
    "slideshow": {
     "slide_type": "skip"
    }
   },
   "source": [
    "### Class Time: `minute` and `second` Read-Write Properties\n",
    "* The following methods named `minute` and `second` define read-write `minute` and `second` properties\n",
    "* Each property’s `setter` ensures that its second argument is in the range 0–59 (the valid range of values for minutes and seconds)\n",
    "\n",
    "```python\n",
    "    @property\n",
    "    def minute(self):\n",
    "        \"\"\"Return the minute.\"\"\"\n",
    "        return self._minute\n",
    "\n",
    "    @minute.setter\n",
    "    def minute(self, minute):\n",
    "        \"\"\"Set the minute.\"\"\"\n",
    "        if not (0 <= minute < 60):\n",
    "            raise ValueError(f'Minute ({minute}) must be 0-59')\n",
    "\n",
    "        self._minute = minute\n",
    "\n",
    "    @property\n",
    "    def second(self):\n",
    "        \"\"\"Return the second.\"\"\"\n",
    "        return self._second\n",
    "\n",
    "    @second.setter\n",
    "    def second(self, second):\n",
    "        \"\"\"Set the second.\"\"\"\n",
    "        if not (0 <= second < 60):\n",
    "            raise ValueError(f'Second ({second}) must be 0-59')\n",
    "\n",
    "        self._second = second\n",
    "\n",
    "\n",
    "```"
   ]
  },
  {
   "cell_type": "markdown",
   "id": "twenty-messenger",
   "metadata": {
    "slideshow": {
     "slide_type": "skip"
    }
   },
   "source": [
    "### Class Time: Method `set_time` \n",
    "* Method `set_time` changes _all three_ attributes with a _single_ method call\n",
    "* The method uses the class's properties defined above\n",
    "\n",
    "```python\n",
    "    def set_time(self, hour=0, minute=0, second=0):\n",
    "        \"\"\"Set values of hour, minute, and second.\"\"\"\n",
    "        self.hour = hour\n",
    "        self.minute = minute\n",
    "        self.second = second\n",
    "\n",
    "\n",
    "```"
   ]
  },
  {
   "cell_type": "markdown",
   "id": "female-astronomy",
   "metadata": {
    "slideshow": {
     "slide_type": "skip"
    }
   },
   "source": [
    "### Class Time: Special Method `__repr__`\n",
    "* When you pass an object to built-in function `repr`—which happens implicitly when you evaluate a variable in an IPython session—the corresponding class’s **`__repr__` special method** is called to get a string representation of the object\n",
    "\n",
    "```python\n",
    "    def __repr__(self):\n",
    "        \"\"\"Return Time string for repr().\"\"\"\n",
    "        return (f'Time(hour={self.hour}, minute={self.minute}, ' + \n",
    "                f'second={self.second})')\n",
    "\n",
    "\n",
    "```"
   ]
  },
  {
   "cell_type": "markdown",
   "id": "outdoor-ivory",
   "metadata": {
    "slideshow": {
     "slide_type": "skip"
    }
   },
   "source": [
    "* The Python documentation indicates that `__repr__` returns the “official” string representation of the object\n",
    "* Should look like a constructor expression that creates and initializes the object"
   ]
  },
  {
   "cell_type": "markdown",
   "id": "funded-peninsula",
   "metadata": {
    "slideshow": {
     "slide_type": "skip"
    }
   },
   "source": [
    "### Class Time: Special Method `__str__` \n",
    "* **`__str__`** special method is called implicitly when you \n",
    "    * convert an object to a string with the built-in function `str`\n",
    "    * `print` an object "
   ]
  },
  {
   "cell_type": "markdown",
   "id": "secondary-defensive",
   "metadata": {
    "slideshow": {
     "slide_type": "skip"
    }
   },
   "source": [
    "```python\n",
    "    def __str__(self):\n",
    "        \"\"\"Print Time in 12-hour clock format.\"\"\"\n",
    "        return (('12' if self.hour in (0, 12) else str(self.hour % 12)) + \n",
    "                f':{self.minute:0>2}:{self.second:0>2}' + \n",
    "                (' AM' if self.hour < 12 else ' PM'))\n",
    "\n",
    "```"
   ]
  },
  {
   "cell_type": "markdown",
   "id": "growing-brain",
   "metadata": {
    "slideshow": {
     "slide_type": "slide"
    }
   },
   "source": [
    "## 2.4.3 Class `Time` Definition Design Notes "
   ]
  },
  {
   "cell_type": "markdown",
   "id": "informed-reduction",
   "metadata": {},
   "source": [
    "### Interface of a Class\n",
    "* Class `Time`’s properties and methods define the class’s **public interface**—\n",
    "    * Properties and methods programmers should use to interact with objects of the class "
   ]
  },
  {
   "cell_type": "markdown",
   "id": "requested-people",
   "metadata": {
    "slideshow": {
     "slide_type": "slide"
    }
   },
   "source": [
    "### Attributes Are Always Accessible\n",
    "* Python does _not_ prevent you from directly manipulating the data attributes `_hour`, `_minute` and `_second`"
   ]
  },
  {
   "cell_type": "code",
   "execution_count": null,
   "id": "recovered-albany",
   "metadata": {},
   "outputs": [],
   "source": [
    "from timewithproperties import Time"
   ]
  },
  {
   "cell_type": "code",
   "execution_count": null,
   "id": "democratic-apparel",
   "metadata": {},
   "outputs": [],
   "source": [
    "wake_up = Time(hour=7, minute=45, second=30)"
   ]
  },
  {
   "cell_type": "code",
   "execution_count": null,
   "id": "atomic-mathematics",
   "metadata": {},
   "outputs": [],
   "source": [
    "wake_up._hour"
   ]
  },
  {
   "cell_type": "code",
   "execution_count": null,
   "id": "mineral-lying",
   "metadata": {
    "slideshow": {
     "slide_type": "slide"
    }
   },
   "outputs": [],
   "source": [
    "wake_up._hour = 100"
   ]
  },
  {
   "cell_type": "code",
   "execution_count": null,
   "id": "reduced-wright",
   "metadata": {},
   "outputs": [],
   "source": [
    "wake_up"
   ]
  },
  {
   "cell_type": "markdown",
   "id": "orange-footage",
   "metadata": {},
   "source": [
    "* After the top snippet, the `wake_up` object contains _invalid_ data\n",
    "* Python tutorial says, “**nothing in Python makes it possible to enforce data hiding—it is all based upon convention**”"
   ]
  },
  {
   "cell_type": "markdown",
   "id": "governing-increase",
   "metadata": {
    "slideshow": {
     "slide_type": "slide"
    }
   },
   "source": [
    "### Internal Data Representation\n",
    "* Could represent the time internally as the number of seconds since midnight\n",
    "    * Would have to reimplement properties `hour`, `minute` and `second`\n",
    "* Other programmers could use the _same_ interface and get the _same_ results without being aware of these changes"
   ]
  },
  {
   "cell_type": "markdown",
   "id": "olympic-peeing",
   "metadata": {
    "slideshow": {
     "slide_type": "slide"
    }
   },
   "source": [
    "# 2.5 Case Study: Card Shuffling and Dealing Simulation\n",
    "* Class `Card` represents a playing card that has a face (`'Ace'`, `'2'`, `'3'`, …, `'Jack'`, `'Queen'`, `'King'`) and a suit (`'Hearts'`, `'Diamonds'`, `'Clubs'`, `'Spades'`)\n",
    "* Class `DeckOfCards` represents a deck of 52 playing cards as a list of `Card` objects"
   ]
  },
  {
   "cell_type": "markdown",
   "id": "ongoing-rebecca",
   "metadata": {
    "slideshow": {
     "slide_type": "slide"
    }
   },
   "source": [
    "## 2.5.1 Test-Driving Classes Card and `DeckOfCards` \n",
    "Before we look at classes `Card` and `DeckOfCards`, let’s use an IPython session to demonstrate their capabilities. "
   ]
  },
  {
   "cell_type": "markdown",
   "id": "meaning-negotiation",
   "metadata": {},
   "source": [
    "### Creating, Shuffling and Dealing the Cards "
   ]
  },
  {
   "cell_type": "code",
   "execution_count": null,
   "id": "minor-carbon",
   "metadata": {},
   "outputs": [],
   "source": [
    "from deck import DeckOfCards"
   ]
  },
  {
   "cell_type": "code",
   "execution_count": null,
   "id": "respected-report",
   "metadata": {},
   "outputs": [],
   "source": [
    "deck_of_cards = DeckOfCards()"
   ]
  },
  {
   "cell_type": "markdown",
   "id": "integral-transition",
   "metadata": {},
   "source": [
    "* `DeckOfCards` method `__init__` creates the 52 `Card` objects in order by suit and by face within each suit\n",
    "* Printing a `deck_of_cards` object calls its `__str__` method "
   ]
  },
  {
   "cell_type": "code",
   "execution_count": null,
   "id": "broadband-dealing",
   "metadata": {
    "slideshow": {
     "slide_type": "slide"
    }
   },
   "outputs": [],
   "source": [
    "print(deck_of_cards)"
   ]
  },
  {
   "cell_type": "markdown",
   "id": "joined-majority",
   "metadata": {
    "slideshow": {
     "slide_type": "slide"
    }
   },
   "source": [
    "* Shuffle the deck and print the `deck_of_cards` object again"
   ]
  },
  {
   "cell_type": "code",
   "execution_count": null,
   "id": "intensive-celtic",
   "metadata": {},
   "outputs": [],
   "source": [
    "deck_of_cards.shuffle()"
   ]
  },
  {
   "cell_type": "code",
   "execution_count": null,
   "id": "portable-jimmy",
   "metadata": {},
   "outputs": [],
   "source": [
    "print(deck_of_cards)"
   ]
  },
  {
   "cell_type": "markdown",
   "id": "analyzed-guyana",
   "metadata": {
    "slideshow": {
     "slide_type": "slide"
    }
   },
   "source": [
    "### Dealing Cards\n",
    "* Can deal one `Card` at a time by calling method `deal_card`\n",
    "* IPython calls the returned `Card` object’s `__repr__` method to produce the string output "
   ]
  },
  {
   "cell_type": "code",
   "execution_count": null,
   "id": "sweet-rotation",
   "metadata": {},
   "outputs": [],
   "source": [
    "deck_of_cards.deal_card()"
   ]
  },
  {
   "cell_type": "markdown",
   "id": "virgin-attendance",
   "metadata": {
    "slideshow": {
     "slide_type": "slide"
    }
   },
   "source": [
    " \n",
    "### Class `Card`’s Other Features\n",
    "* Deal another card and pass it to the built-in `str` function"
   ]
  },
  {
   "cell_type": "code",
   "execution_count": null,
   "id": "expected-cream",
   "metadata": {},
   "outputs": [],
   "source": [
    "card = deck_of_cards.deal_card()\n",
    "card"
   ]
  },
  {
   "cell_type": "code",
   "execution_count": null,
   "id": "dangerous-perfume",
   "metadata": {},
   "outputs": [],
   "source": [
    "str(card)"
   ]
  },
  {
   "cell_type": "markdown",
   "id": "alpine-walter",
   "metadata": {
    "slideshow": {
     "slide_type": "skip"
    }
   },
   "source": [
    "## 2.5.2 Class `Card`—Introducing Class Attributes "
   ]
  },
  {
   "cell_type": "markdown",
   "id": "strong-comment",
   "metadata": {
    "slideshow": {
     "slide_type": "skip"
    }
   },
   "source": [
    "### Class Attributes `FACES` and `SUITS` \n",
    "* Each object of a class has its own copies of the class’s data attributes\n",
    "* A **class attribute** (also called a **class variable**) represents _class-wide_ information\n",
    "    * Belongs to the _class_, not to a specific object of that class\n",
    "* Two class attributes (lines 5–7):\n",
    "    * `FACES` is a list of the card face names\n",
    "    * `SUITS` is a list of the card suit names"
   ]
  },
  {
   "cell_type": "markdown",
   "id": "textile-highlight",
   "metadata": {
    "slideshow": {
     "slide_type": "slide"
    }
   },
   "source": [
    "```python\n",
    "# card.py\n",
    "\"\"\"Card class that represents a playing card and its image file name.\"\"\"\n",
    "\n",
    "class Card:\n",
    "    FACES = ['Ace', '2', '3', '4', '5', '6',\n",
    "             '7', '8', '9', '10', 'Jack', 'Queen', 'King']\n",
    "    SUITS = ['Hearts', 'Diamonds', 'Clubs', 'Spades']\n",
    "\n",
    "\n",
    "```"
   ]
  },
  {
   "cell_type": "markdown",
   "id": "collectible-consciousness",
   "metadata": {
    "slideshow": {
     "slide_type": "slide"
    }
   },
   "source": [
    "### Class Attributes `FACES` and `SUITS` (cont.)\n",
    "* Define a class attribute by assigning a value to it inside the class’s definition, but not inside any of the class’s methods or properties (in which case, they’d be local variables)\n",
    "* `FACES` and `SUITS` are _constants_ that are not meant to be modified\n",
    "* _Style Guide for Python Code_ recommends naming your constants with all capital letters."
   ]
  },
  {
   "cell_type": "markdown",
   "id": "overhead-prisoner",
   "metadata": {
    "slideshow": {
     "slide_type": "fragment"
    }
   },
   "source": [
    "### Class Attributes `FACES` and `SUITS` (cont.)\n",
    "* We’ll use `FACES` and `SUITS` to initialize each `Card` we create\n",
    "* Do not need a separate copy of each list in every `Card` object\n",
    "* Class attributes are typically accessed through the class’s name (as in, `Card.FACES` or `Card.SUITS`)\n",
    "* Class attributes exist as soon as you import their class’s definition"
   ]
  },
  {
   "cell_type": "markdown",
   "id": "cosmetic-identification",
   "metadata": {
    "slideshow": {
     "slide_type": "slide"
    }
   },
   "source": [
    "### Card Method `__init__` \n",
    "* Method `__init__` defines a `Card`’s `_face` and `_suit` data attributes\n",
    "\n",
    "```python\n",
    "    def __init__(self, face, suit):\n",
    "        \"\"\"Initialize a Card with a face and suit.\"\"\"\n",
    "        self._face = face\n",
    "        self._suit = suit\n",
    "\n",
    "```"
   ]
  },
  {
   "cell_type": "markdown",
   "id": "demonstrated-webster",
   "metadata": {
    "slideshow": {
     "slide_type": "slide"
    }
   },
   "source": [
    "### Read-Only Properties `face`, and `suit` \n",
    "* Once a `Card` is created, its `face`, and `suit` do not change, so these are read-only properties"
   ]
  },
  {
   "cell_type": "markdown",
   "id": "precious-manufacturer",
   "metadata": {},
   "source": [
    "```python   \n",
    "    @property\n",
    "    def face(self):\n",
    "        \"\"\"Return the Card's self._face value.\"\"\"\n",
    "        return self._face\n",
    "\n",
    "    @property\n",
    "    def suit(self):\n",
    "        \"\"\"Return the Card's self._suit value.\"\"\"\n",
    "        return self._suit\n",
    "\n",
    "```"
   ]
  },
  {
   "cell_type": "markdown",
   "id": "grand-boost",
   "metadata": {
    "slideshow": {
     "slide_type": "slide"
    }
   },
   "source": [
    "### Methods That Return String Representations of a Card \n",
    "* `Card` provides three special methods that return string representations\n",
    "* Method `__repr__` returns a string representation that looks like a constructor expression \n",
    "\n",
    "```python\n",
    "    def __repr__(self):\n",
    "        \"\"\"Return string representation for repr().\"\"\"\n",
    "        return f\"Card(face='{self.face}', suit='{self.suit}')\"     \n",
    "\n",
    "\n",
    "```"
   ]
  },
  {
   "cell_type": "markdown",
   "id": "speaking-alias",
   "metadata": {
    "slideshow": {
     "slide_type": "slide"
    }
   },
   "source": [
    "### Methods That Return String Representations of a Card (cont.)\n",
    "* Method `__str__` returns a string of the format `'`_face_ `of` _suit_`'` \n",
    "\n",
    "```python \n",
    "    def __str__(self):\n",
    "        \"\"\"Return string representation for str().\"\"\"\n",
    "        return f'{self.face} of {self.suit}'\n",
    "\n",
    "\n",
    "```"
   ]
  },
  {
   "cell_type": "markdown",
   "id": "controlling-extraction",
   "metadata": {
    "slideshow": {
     "slide_type": "skip"
    }
   },
   "source": [
    "### Methods That Return String Representations of a Card (cont./excurse)\n",
    "* In the `__str__` method of class `DeckOfCards`, we use f-strings to format the `Card`s in fields of 19 characters each\n",
    "* Class `Card`’s special method **`__format__`** is called when a `Card` object is _formatted_ as a string\n",
    "\n",
    "```python\n",
    "    def __format__(self, format):\n",
    "        \"\"\"Return formatted string representation for str().\"\"\"\n",
    "        return f'{str(self):{format}}'\n",
    "\n",
    "```"
   ]
  },
  {
   "cell_type": "markdown",
   "id": "southeast-equality",
   "metadata": {
    "slideshow": {
     "slide_type": "skip"
    }
   },
   "source": [
    "* Second argument is the format string used to format the object\n",
    "* To use the `format` parameter’s value as a format specifier, enclose the parameter name in braces to the _right_ of the colon"
   ]
  },
  {
   "cell_type": "markdown",
   "id": "maritime-occupation",
   "metadata": {
    "slideshow": {
     "slide_type": "slide"
    }
   },
   "source": [
    "## 2.5.3 Class `DeckOfCards` \n",
    "* Class attribute `NUMBER_OF_CARDS` represents the number of `Card`s in a deck\n",
    "* Data attribute `_current_card` keeps track of which `Card` will be dealt next (`0`–`51`) \n",
    "* Data attribute `_deck` is a list of 52 `Card` objects"
   ]
  },
  {
   "cell_type": "markdown",
   "id": "occupational-temperature",
   "metadata": {
    "slideshow": {
     "slide_type": "slide"
    }
   },
   "source": [
    "### Method `__init__`\n",
    "* Initializes a `_deck` of `Card`s\n",
    "* `for` statement fills the list `_deck` by appending new `Card` objects, each initialized with two strings—one from the list `Card.FACES` and one from `Card.SUITS`\n"
   ]
  },
  {
   "cell_type": "markdown",
   "id": "documentary-cycle",
   "metadata": {
    "slideshow": {
     "slide_type": "slide"
    }
   },
   "source": [
    "```python\n",
    "# deck.py\n",
    "\"\"\"Deck class represents a deck of Cards.\"\"\"\n",
    "import random \n",
    "from card import Card\n",
    "\n",
    "class DeckOfCards:\n",
    "    NUMBER_OF_CARDS = 52  # constant number of Cards\n",
    "\n",
    "    def __init__(self):\n",
    "        \"\"\"Initialize the deck.\"\"\"\n",
    "        self._current_card = 0\n",
    "        self._deck = []\n",
    "\n",
    "        for count in range(DeckOfCards.NUMBER_OF_CARDS):  \n",
    "            self._deck.append(Card(Card.FACES[count % 13], \n",
    "                Card.SUITS[count // 13]))\n",
    "\n",
    "\n",
    "```"
   ]
  },
  {
   "cell_type": "markdown",
   "id": "naughty-revision",
   "metadata": {
    "slideshow": {
     "slide_type": "skip"
    }
   },
   "source": [
    "### Method `shuffle`\n",
    "* Resets `_current_card` to `0`, then shuffles the `Card`s in `_deck` using the `random` module’s `shuffle` function\n",
    "\n",
    "```python \n",
    "    def shuffle(self):\n",
    "        \"\"\"Shuffle deck.\"\"\"\n",
    "        self._current_card = 0\n",
    "        random.shuffle(self._deck)    \n",
    "\n",
    "\n",
    "```"
   ]
  },
  {
   "cell_type": "markdown",
   "id": "square-healthcare",
   "metadata": {
    "slideshow": {
     "slide_type": "skip"
    }
   },
   "source": [
    "### Method `deal_card`\n",
    "* Deals one `Card` from `_deck`\n",
    "* Returns `None` when there are no more `Card`s to deal\n",
    "\n",
    "```python \n",
    "    def deal_card(self):\n",
    "        \"\"\"Return one Card.\"\"\"\n",
    "        try:\n",
    "            card = self._deck[self._current_card]\n",
    "            self._current_card += 1\n",
    "            return card\n",
    "        except:\n",
    "            return None  \n",
    "\n",
    "\n",
    "```"
   ]
  },
  {
   "cell_type": "markdown",
   "id": "seven-stereo",
   "metadata": {
    "slideshow": {
     "slide_type": "skip"
    }
   },
   "source": [
    "### Method `__str__`\n",
    "* Returns a string representation of the deck in four columns with each `Card` left aligned in a field of 19 characters\n",
    "\n",
    "```python \n",
    "    def __str__(self):\n",
    "        \"\"\"Return a string representation of the current _deck.\"\"\"\n",
    "        s = ''\n",
    "\n",
    "        for index, card in enumerate(self._deck):\n",
    "            s += f'{self._deck[index]:<19}'\n",
    "            if (index + 1) % 4 == 0:\n",
    "                s += '\\n'\n",
    "        \n",
    "        return s\n",
    "\n",
    "```\n"
   ]
  },
  {
   "cell_type": "markdown",
   "id": "native-cooler",
   "metadata": {
    "slideshow": {
     "slide_type": "slide"
    }
   },
   "source": [
    "# 2.6 Inheritance: Base Classes and Subclasses\n",
    "* Often, an object of one class _is an_ object of another class as well\n",
    "* a `CarLoan` _is a_ `Loan` as are `HomeImprovementLoan`s and `MortgageLoan`s\n",
    "* Class `CarLoan` can be said to inherit from class `Loan`. \n",
    "* In this context, class `Loan` is a base class, and class `CarLoan` is a subclass\n",
    "* A `CarLoan` _is a_ specific type of `Loan`, but it’s incorrect to claim that every `Loan` _is a_ `CarLoan`\n",
    "\n",
    "* Every subclass object _is an_ object of its base class\n",
    "* The set of objects represented by a base class is often larger than the set of objects represented by any of its subclasses"
   ]
  },
  {
   "cell_type": "markdown",
   "id": "contrary-genius",
   "metadata": {
    "slideshow": {
     "slide_type": "slide"
    }
   },
   "source": [
    "### `CommunityMember` Inheritance Hierarchy\n",
    "* Inheritance relationships form tree-like _hierarchical_ structures\n",
    "* A base class exists in a hierarchical relationship with its subclasses\n",
    "* With **single inheritance**, a class is derived from _one_ base class\n",
    "* With **multiple inheritance**, a subclass inherits from _two or more_ base classes\n",
    "* Sample class hierarchy, also called an **inheritance hierarchy** for a university community "
   ]
  },
  {
   "cell_type": "markdown",
   "id": "grateful-presence",
   "metadata": {},
   "source": [
    "![Sample class hierarchy for a university community](data:image/png;base64,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)"
   ]
  },
  {
   "cell_type": "markdown",
   "id": "structured-spank",
   "metadata": {
    "slideshow": {
     "slide_type": "slide"
    }
   },
   "source": [
    "### Inheritance: “is a” relationship\n",
    "\n",
    "* Each arrow in the hierarchy represents an _is-a_ relationship\n",
    "    * “an `Employee` _is a_ `CommunityMember`” \n",
    "    * “a `Teacher` _is a_ `Faculty` member” \n",
    "* `CommunityMember` is the direct base class of `Employee`, `Student` and `Alum` and is an indirect base class of all the other classes in the diagram\n",
    "Starting from the bottom, you can follow the arrows and apply the _is-a_ relationship up to the topmost superclass"
   ]
  },
  {
   "cell_type": "markdown",
   "id": "magnetic-cornwall",
   "metadata": {
    "slideshow": {
     "slide_type": "fragment"
    }
   },
   "source": [
    "### “is a” vs. “has a”\n",
    "* Inheritance produces **“is-a” relationships** in which an object of a subclass type may also be treated as an object of the base-class type\n",
    "* In **“has-a”** (composition) relationships, a class has references to one or more objects of other classes as members, such as `DeckOfCards` and `Card`"
   ]
  },
  {
   "cell_type": "markdown",
   "id": "third-printer",
   "metadata": {
    "slideshow": {
     "slide_type": "slide"
    }
   },
   "source": [
    "# 2.7 Building an Inheritance Hierarchy; Introducing Polymorphism\n",
    "* Hierarchy containing types of employees in a company’s payroll app\n",
    "* All employees of the company have a lot in common\n",
    "    * _commission employees_ (who will be represented as objects of a base class) are paid a percentage of their sales\n",
    "    * _salaried commission employees_ (who will be represented as objects of a subclass) receive a percentage of their sales _plus_ a base salary \n"
   ]
  },
  {
   "cell_type": "markdown",
   "id": "pending-scholar",
   "metadata": {
    "slideshow": {
     "slide_type": "skip"
    }
   },
   "source": [
    "## 2.7.1 Base Class `CommissionEmployee` \n",
    "Class `CommissionEmployee` provides the following features: \n",
    "* Method `__init__` creates the data attributes `_first_name`, `_last_name` and `_ssn` (Social Security number), and uses the setter's of properties `gross_sales` and `commission_rate` to create their corresponding data attributes\n",
    "* Read-only properties `first_name`, `last_name` and `ssn`, which return the corresponding data attributes\n",
    "* Read-write properties `gross_sales` and `commission_rate` in which the `setter`s perform data validation\n",
    "* Method `earnings`, which calculates and returns a `CommissionEmployee`’s earnings\n",
    "* Method `__repr__`, which returns a string representation of a `CommissionEmployee`"
   ]
  },
  {
   "cell_type": "markdown",
   "id": "growing-husband",
   "metadata": {
    "slideshow": {
     "slide_type": "slide"
    }
   },
   "source": [
    "```python\n",
    "# commmissionemployee.py\n",
    "\"\"\"CommissionEmployee base class.\"\"\"\n",
    "from decimal import Decimal\n",
    "\n",
    "class CommissionEmployee:\n",
    "    \"\"\"An employee who gets paid commission based on gross sales.\"\"\"\n",
    "\n",
    "    def __init__(self, first_name, last_name, ssn, \n",
    "                 gross_sales, commission_rate):\n",
    "        \"\"\"Initialize CommissionEmployee's attributes.\"\"\"\n",
    "        self._first_name = first_name\n",
    "        self._last_name = last_name\n",
    "        self._ssn = ssn\n",
    "        self.gross_sales = gross_sales  # validate via property\n",
    "        self.commission_rate = commission_rate  # validate via property\n",
    "\n",
    "    @property\n",
    "    def first_name(self):\n",
    "        return self._first_name\n",
    "\n",
    "    @property\n",
    "    def last_name(self):\n",
    "        return self._last_name\n",
    "\n",
    "    @property\n",
    "    def ssn(self):\n",
    "        return self._ssn\n",
    "\n",
    "    @property\n",
    "    def gross_sales(self):\n",
    "        return self._gross_sales\n",
    "\n",
    "    @gross_sales.setter\n",
    "    def gross_sales(self, sales):\n",
    "        \"\"\"Set gross sales or raise ValueError if invalid.\"\"\"\n",
    "        if sales < Decimal('0.00'):\n",
    "            raise ValueError('Gross sales must be >= to 0')\n",
    "        \n",
    "        self._gross_sales = sales\n",
    "        \n",
    "    @property\n",
    "    def commission_rate(self):\n",
    "        return self._commission_rate\n",
    "\n",
    "    @commission_rate.setter\n",
    "    def commission_rate(self, rate):\n",
    "        \"\"\"Set commission rate or raise ValueError if invalid.\"\"\"\n",
    "        if not (Decimal('0.0') < rate < Decimal('1.0')):\n",
    "            raise ValueError(\n",
    "               'Interest rate must be greater than 0 and less than 1')\n",
    "        \n",
    "        self._commission_rate = rate\n",
    "\n",
    "    def earnings(self):\n",
    "        \"\"\"Calculate earnings.\"\"\"   \n",
    "        return self.gross_sales * self.commission_rate\n",
    "\n",
    "    def __repr__(self):\n",
    "        \"\"\"Return string representation for repr().\"\"\"\n",
    "        return ('CommissionEmployee: ' + \n",
    "            f'{self.first_name} {self.last_name}\\n' +\n",
    "            f'social security number: {self.ssn}\\n' +\n",
    "            f'gross sales: {self.gross_sales:.2f}\\n' +\n",
    "            f'commission rate: {self.commission_rate:.2f}')\n",
    "\n",
    "```"
   ]
  },
  {
   "cell_type": "markdown",
   "id": "consistent-petite",
   "metadata": {
    "slideshow": {
     "slide_type": "slide"
    }
   },
   "source": [
    "### All Classes Inherit Directly or Indirectly from Class `object`\n",
    "* _Every_ Python class inherits from an existing class\n",
    "* When you do not explicitly specify the base class for a new class, Python assumes that the class inherits directly from class `object`\n",
    "* Class `CommissionEmployee`’s header could have been written as\n",
    " \n",
    "```python\n",
    "class CommissionEmployee(object):\n",
    "```\n",
    "* The parentheses after `CommissionEmployee` indicate inheritance and may contain \n",
    "    * a single class for single inheritance \n",
    "    * a comma-separated list of base classes for **multiple inheritance**, i.e., a subclass that inherits from _several_ superclasses"
   ]
  },
  {
   "cell_type": "markdown",
   "id": "frozen-paris",
   "metadata": {
    "slideshow": {
     "slide_type": "skip"
    }
   },
   "source": [
    "### All Classes Inherit Directly or Indirectly from Class `object` (cont.)\n",
    "* `CommissionEmployee` inherits all the methods of class `object`\n",
    "* Two of the many methods inherited from `object` are `__repr__` and `__str__`\n",
    "    * So _every_ class has these methods that return string representations of the objects on which they’re called\n",
    "* When a base-class method implementation is inappropriate for a derived class, that method can be **overridden** (i.e., redefined) in the derived class with an appropriate implementation\n",
    "    * Method `__repr__` overrides the default implementation from class `object`"
   ]
  },
  {
   "cell_type": "markdown",
   "id": "alert-belly",
   "metadata": {
    "slideshow": {
     "slide_type": "slide"
    }
   },
   "source": [
    "### Testing Class `CommissionEmployee`  \n",
    "* test some of `CommissionEmployee`’s features"
   ]
  },
  {
   "cell_type": "code",
   "execution_count": null,
   "id": "anonymous-comment",
   "metadata": {},
   "outputs": [],
   "source": [
    "from commissionemployee import CommissionEmployee\n",
    "from decimal import Decimal"
   ]
  },
  {
   "cell_type": "code",
   "execution_count": null,
   "id": "hairy-message",
   "metadata": {
    "slideshow": {
     "slide_type": "slide"
    }
   },
   "outputs": [],
   "source": [
    "c = CommissionEmployee('Sue', 'Jones', '333-33-3333', \n",
    "    Decimal('10000.00'), Decimal('0.06'))"
   ]
  },
  {
   "cell_type": "code",
   "execution_count": null,
   "id": "emerging-times",
   "metadata": {},
   "outputs": [],
   "source": [
    "c"
   ]
  },
  {
   "cell_type": "markdown",
   "id": "significant-buddy",
   "metadata": {
    "slideshow": {
     "slide_type": "slide"
    }
   },
   "source": [
    "* calculate and display the `CommissionEmployee`’s earnings"
   ]
  },
  {
   "cell_type": "code",
   "execution_count": null,
   "id": "authentic-brief",
   "metadata": {},
   "outputs": [],
   "source": [
    "print(f'{c.earnings():,.2f}')"
   ]
  },
  {
   "cell_type": "markdown",
   "id": "contained-member",
   "metadata": {
    "slideshow": {
     "slide_type": "slide"
    }
   },
   "source": [
    "* change the `CommissionEmployee`’s gross sales and commission rate, then recalculate the earnings"
   ]
  },
  {
   "cell_type": "code",
   "execution_count": null,
   "id": "representative-curve",
   "metadata": {},
   "outputs": [],
   "source": [
    "c.gross_sales = Decimal('20000.00')"
   ]
  },
  {
   "cell_type": "code",
   "execution_count": null,
   "id": "prompt-bulgaria",
   "metadata": {},
   "outputs": [],
   "source": [
    "c.commission_rate = Decimal('0.1')"
   ]
  },
  {
   "cell_type": "code",
   "execution_count": null,
   "id": "activated-poland",
   "metadata": {},
   "outputs": [],
   "source": [
    "print(f'{c.earnings():,.2f}')"
   ]
  },
  {
   "cell_type": "markdown",
   "id": "temporal-literacy",
   "metadata": {
    "slideshow": {
     "slide_type": "slide"
    }
   },
   "source": [
    "## 2.7.2 Subclass `SalariedCommissionEmployee` \n",
    "* With single inheritance, the subclass starts essentially the same as the base class\n",
    "* The real strength of inheritance comes from the ability to define in the subclass additions, replacements or refinements for the features inherited from the base class. \n",
    "* Many of a `SalariedCommissionEmployee`’s capabilities are similar, if not identical, to those of class `CommissionEmployee`\n",
    "    * Both types of employees have first name, last name, Social Security number, gross sales and commission rate data attributes, and properties and methods to manipulate that data\n",
    "* Inheritance enables us to “absorb” the features of a class _without_ duplicating code"
   ]
  },
  {
   "cell_type": "markdown",
   "id": "russian-school",
   "metadata": {
    "slideshow": {
     "slide_type": "skip"
    }
   },
   "source": [
    "### Declaring Class `SalariedCommissionEmployee` \n",
    "* Subclass `SalariedCommissionEmployee` _inherits_ most of its capabilities from class `CommissionEmployee`\n",
    "* A `SalariedCommissionEmployee` _is a_ `CommissionEmployee` (because inheritance passes on the capabilities of class `CommissionEmployee`)\n",
    "* Class `SalariedCommissionEmployee` also has the following features:\n",
    "    * Method `__init__`, which initializes all the data inherited from class `CommissionEmployee`, then uses the `base_salary` property’s `setter` to create a `_base_salary` data attribute\n",
    "    * Read-write property `base_salary`, in which the `setter` performs data validation.\n",
    "    * A customized version of method `earnings`\n",
    "    * A customized version of method `__repr__`"
   ]
  },
  {
   "cell_type": "markdown",
   "id": "incomplete-mechanism",
   "metadata": {
    "slideshow": {
     "slide_type": "slide"
    }
   },
   "source": [
    "```python\n",
    "# salariedcommissionemployee.py\n",
    "\"\"\"SalariedCommissionEmployee derived from CommissionEmployee.\"\"\"\n",
    "from commissionemployee import CommissionEmployee\n",
    "from decimal import Decimal\n",
    "\n",
    "class SalariedCommissionEmployee(CommissionEmployee):\n",
    "    \"\"\"An employee who gets paid a salary plus \n",
    "    commission based on gross sales.\"\"\"\n",
    "\n",
    "    def __init__(self, first_name, last_name, ssn, \n",
    "                 gross_sales, commission_rate, base_salary):\n",
    "        \"\"\"Initialize SalariedCommissionEmployee's attributes.\"\"\"\n",
    "        super().__init__(first_name, last_name, ssn, \n",
    "                         gross_sales, commission_rate)\n",
    "        self.base_salary = base_salary  # validate via property\n",
    "\n",
    "    @property\n",
    "    def base_salary(self):\n",
    "        return self._base_salary\n",
    "\n",
    "    @base_salary.setter\n",
    "    def base_salary(self, salary):\n",
    "        \"\"\"Set base salary or raise ValueError if invalid.\"\"\"\n",
    "        if salary < Decimal('0.00'):\n",
    "            raise ValueError('Base salary must be >= to 0')\n",
    "        \n",
    "        self._base_salary = salary\n",
    "\n",
    "    def earnings(self):\n",
    "        \"\"\"Calculate earnings.\"\"\"   \n",
    "        return super().earnings() + self.base_salary\n",
    "\n",
    "    def __repr__(self):\n",
    "        \"\"\"Return string representation for repr().\"\"\"\n",
    "        return ('Salaried' + super().__repr__() +      \n",
    "            f'\\nbase salary: {self.base_salary:.2f}')\n",
    "\n",
    "```"
   ]
  },
  {
   "cell_type": "markdown",
   "id": "hybrid-alliance",
   "metadata": {
    "slideshow": {
     "slide_type": "skip"
    }
   },
   "source": [
    "### Inheriting from Class `CommissionEmployee`\n",
    "\n",
    "```python\n",
    "class SalariedCommissionEmployee(CommissionEmployee):\n",
    "```\n",
    "* specifies that class `SalariedCommissionEmployee` _inherits_ from `CommissionEmployee`\n",
    "* Don't see class `CommissionEmployee`’s data attributes, properties and methods in class `SalariedCommissionEmployee`, but they are there"
   ]
  },
  {
   "cell_type": "markdown",
   "id": "marked-great",
   "metadata": {
    "slideshow": {
     "slide_type": "skip"
    }
   },
   "source": [
    "### Method `__init__` and Built-In Function `super` \n",
    "* _Each subclass `__init__` must explicitly call its base class’s `__init__` to initialize the data attributes inherited from the base class_\n",
    "    * This call should be the first statement in the subclass’s `__init__` method\n",
    "* The notation `super().__init__` uses the built-in function **`super`** to locate and call the base class’s `__init__` method"
   ]
  },
  {
   "cell_type": "markdown",
   "id": "agreed-magnitude",
   "metadata": {
    "slideshow": {
     "slide_type": "skip"
    }
   },
   "source": [
    "### Overriding Method `earnings`\n",
    "* Class `SalariedCommissionEmployee`’s `earnings` method overrides class `CommissionEmployee`’s `earnings` method to calculate the earnings of a `SalariedCommissionEmployee`\n",
    "    * Obtains the portion of the earnings based on _commission alone_ by calling `CommissionEmployee`’s `earnings` method with the expression `super().earnings()`\n",
    "   "
   ]
  },
  {
   "cell_type": "markdown",
   "id": "military-vancouver",
   "metadata": {
    "slideshow": {
     "slide_type": "skip"
    }
   },
   "source": [
    "### Overriding Method `__repr__`\n",
    "* `SalariedCommissionEmployee`’s `__repr__` method overrides class `CommissionEmployee`’s `__repr__` method to return a `String` representation that’s appropriate for a `SalariedCommissionEmployee`\n",
    "* `super().__repr__()` calls `CommissionEmployee`'s `__repr__` method"
   ]
  },
  {
   "cell_type": "markdown",
   "id": "twelve-secondary",
   "metadata": {
    "slideshow": {
     "slide_type": "slide"
    }
   },
   "source": [
    "### Testing Class `SalariedCommissionEmployee` "
   ]
  },
  {
   "cell_type": "code",
   "execution_count": null,
   "id": "regular-accommodation",
   "metadata": {},
   "outputs": [],
   "source": [
    "from salariedcommissionemployee import SalariedCommissionEmployee"
   ]
  },
  {
   "cell_type": "code",
   "execution_count": null,
   "id": "extended-aggregate",
   "metadata": {},
   "outputs": [],
   "source": [
    "s = SalariedCommissionEmployee('Bob', 'Lewis', '444-44-4444',\n",
    "        Decimal('5000.00'), Decimal('0.04'), Decimal('300.00'))"
   ]
  },
  {
   "cell_type": "code",
   "execution_count": null,
   "id": "major-armenia",
   "metadata": {},
   "outputs": [],
   "source": [
    "print(s.first_name, s.last_name, s.ssn, s.gross_sales, \n",
    "      s.commission_rate, s.base_salary)"
   ]
  },
  {
   "cell_type": "markdown",
   "id": "accomplished-arthur",
   "metadata": {
    "slideshow": {
     "slide_type": "slide"
    }
   },
   "source": [
    "* `SalariedCommissionEmployee` object has _all_ of the properties of classes `CommissionEmployee` _and_ `SalariedCommissionEmployee`\n",
    "* Calculate and display the `SalariedCommissionEmployee`’s earnings"
   ]
  },
  {
   "cell_type": "code",
   "execution_count": null,
   "id": "metallic-experience",
   "metadata": {},
   "outputs": [],
   "source": [
    "print(f'{s.earnings():,.2f}')"
   ]
  },
  {
   "cell_type": "markdown",
   "id": "stuck-democracy",
   "metadata": {
    "slideshow": {
     "slide_type": "slide"
    }
   },
   "source": [
    "* Modify the `gross_sales`, `commission_rate` and `base_salary` properties, then display the updated data via the `SalariedCommissionEmployee`’s `__repr__` method"
   ]
  },
  {
   "cell_type": "code",
   "execution_count": null,
   "id": "orange-acceptance",
   "metadata": {},
   "outputs": [],
   "source": [
    "s.gross_sales = Decimal('10000.00')"
   ]
  },
  {
   "cell_type": "code",
   "execution_count": null,
   "id": "equal-complexity",
   "metadata": {},
   "outputs": [],
   "source": [
    "s.commission_rate = Decimal('0.05')"
   ]
  },
  {
   "cell_type": "code",
   "execution_count": null,
   "id": "geological-official",
   "metadata": {},
   "outputs": [],
   "source": [
    "s.base_salary = Decimal('1000.00')"
   ]
  },
  {
   "cell_type": "code",
   "execution_count": null,
   "id": "precise-packet",
   "metadata": {},
   "outputs": [],
   "source": [
    "print(s)"
   ]
  },
  {
   "cell_type": "markdown",
   "id": "usual-sellers",
   "metadata": {
    "slideshow": {
     "slide_type": "slide"
    }
   },
   "source": [
    "* Calculate and display the `SalariedCommissionEmployee`’s updated earnings"
   ]
  },
  {
   "cell_type": "code",
   "execution_count": null,
   "id": "authorized-affiliation",
   "metadata": {},
   "outputs": [],
   "source": [
    "print(f'{s.earnings():,.2f}')"
   ]
  },
  {
   "cell_type": "markdown",
   "id": "transparent-kelly",
   "metadata": {
    "slideshow": {
     "slide_type": "slide"
    }
   },
   "source": [
    "### Testing the “is a” Relationship \n",
    "Functions **`issubclass`** and **`isinstance`** are used to test “is a” relationships\n",
    "* `issubclass` determines whether one class is derived from another"
   ]
  },
  {
   "cell_type": "code",
   "execution_count": null,
   "id": "annoying-commission",
   "metadata": {},
   "outputs": [],
   "source": [
    "issubclass(SalariedCommissionEmployee, CommissionEmployee)"
   ]
  },
  {
   "cell_type": "markdown",
   "id": "divine-writer",
   "metadata": {},
   "source": [
    "* `isinstance` determines whether an object has an “is a” relationship with a specific type"
   ]
  },
  {
   "cell_type": "code",
   "execution_count": null,
   "id": "brazilian-infrastructure",
   "metadata": {},
   "outputs": [],
   "source": [
    "isinstance(s, CommissionEmployee)"
   ]
  },
  {
   "cell_type": "code",
   "execution_count": null,
   "id": "proved-flesh",
   "metadata": {},
   "outputs": [],
   "source": [
    "isinstance(s, SalariedCommissionEmployee)"
   ]
  },
  {
   "cell_type": "markdown",
   "id": "unnecessary-seventh",
   "metadata": {
    "slideshow": {
     "slide_type": "slide"
    }
   },
   "source": [
    "## 2.7.3 Processing `CommissionEmployee`s and `SalariedCommissionEmployee`s Polymorphically\n",
    "* With inheritance, every object of a subclass also may be treated as an object of that subclass’s base class\n",
    "* Can take advantage of this relationship to place objects related through inheritance into a list, then iterate through the list and treat each element as a base-class object\n",
    "    * Allows a variety of objects to be processed in a _general_ way"
   ]
  },
  {
   "cell_type": "code",
   "execution_count": null,
   "id": "hungarian-recruitment",
   "metadata": {
    "slideshow": {
     "slide_type": "slide"
    }
   },
   "outputs": [],
   "source": [
    "employees = [c, s]"
   ]
  },
  {
   "cell_type": "code",
   "execution_count": null,
   "id": "opened-vitamin",
   "metadata": {},
   "outputs": [],
   "source": [
    "for employee in employees:\n",
    "    print(employee)\n",
    "    print(f'{employee.earnings():,.2f}\\n')"
   ]
  },
  {
   "cell_type": "markdown",
   "id": "demonstrated-determination",
   "metadata": {
    "slideshow": {
     "slide_type": "slide"
    }
   },
   "source": [
    "* Correct string representation and earnings are displayed for each employee\n",
    "* This is called _polymorphism_ — a key capability of object-oriented programming (OOP)"
   ]
  },
  {
   "cell_type": "markdown",
   "id": "compliant-argument",
   "metadata": {
    "slideshow": {
     "slide_type": "notes"
    }
   },
   "source": [
    " ------\n",
    "&copy;1992&ndash;2020 by Pearson Education, Inc. All Rights Reserved. This content is based on Chapter 1 of the book [**Intro to Python for Computer Science and Data Science: Learning to Program with AI, Big Data and the Cloud**](https://amzn.to/2VvdnxE).         "
   ]
  }
 ],
 "metadata": {
  "celltoolbar": "Slideshow",
  "kernelspec": {
   "display_name": "Python 3 (ipykernel)",
   "language": "python",
   "name": "python3"
  },
  "language_info": {
   "codemirror_mode": {
    "name": "ipython",
    "version": 3
   },
   "file_extension": ".py",
   "mimetype": "text/x-python",
   "name": "python",
   "nbconvert_exporter": "python",
   "pygments_lexer": "ipython3",
   "version": "3.11.5"
  }
 },
 "nbformat": 4,
 "nbformat_minor": 5
}
